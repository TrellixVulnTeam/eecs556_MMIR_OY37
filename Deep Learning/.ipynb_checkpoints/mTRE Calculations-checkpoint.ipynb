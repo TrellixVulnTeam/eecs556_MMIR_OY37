{
 "cells": [
  {
   "cell_type": "code",
   "execution_count": 1,
   "metadata": {},
   "outputs": [],
   "source": [
    "import nibabel as nib\n",
    "import numpy as np"
   ]
  },
  {
   "cell_type": "code",
   "execution_count": 2,
   "metadata": {},
   "outputs": [],
   "source": [
    "# Extracted information from original nifti files. \n",
    "# DeepReg throws away this information and doesn't acurately calculate mTRE\n",
    "\n",
    "case1_affine = np.array([[ 3.90691876e-01,  1.30452037e-01,  2.81675309e-01, -1.96299267e+01],\n",
    "       [ 1.55749843e-02,  4.42654282e-01, -2.28414789e-01, -5.37206192e+01],\n",
    "       [-3.09405476e-01,  1.87006667e-01,  3.44178468e-01, 2.05047684e+01],\n",
    "       [ 0.00000000e+00,  0.00000000e+00,  0.00000000e+00, 1.00000000e+00]])\n",
    "\n",
    "case2_affine = np.array([[ 3.33370864e-01,  1.59845248e-01,  3.33878189e-01, -3.39173775e+01],\n",
    "       [-1.82626724e-01,  4.61422384e-01, -3.86130475e-02, 4.38701019e+01],\n",
    "       [-3.21150362e-01, -9.64666754e-02,  3.68540883e-01, 6.26287537e+01],\n",
    "       [ 0.00000000e+00,  0.00000000e+00,  0.00000000e+00, 1.00000000e+00]])\n",
    "\n",
    "case12_affine = np.array([[  0.41881981,   0.07436115,   0.25797391, -57.30677795],\n",
    "       [  0.06075069,   0.43993044,  -0.22682622, -23.42017174],\n",
    "       [ -0.26014873,   0.22244968,   0.36234942, -19.91741753],\n",
    "       [  0.        ,   0.        ,   0.        ,   1.        ]])\n",
    "\n",
    "case13_affine = np.array([[ 4.08450842e-01, -1.18215449e-01,  2.58995205e-01, -2.38458767e+01],\n",
    "       [ 1.57638997e-01,  4.71258372e-01, -3.36058326e-02, -7.20230942e+01],\n",
    "       [-2.37171665e-01,  1.09639972e-01,  4.23698217e-01, -5.00180817e+01],\n",
    "       [ 0.00000000e+00,  0.00000000e+00,  0.00000000e+00, 1.00000000e+00]])\n",
    "\n",
    "case21_affine = np.array([[4.00647670e-01, -1.04107566e-01,  2.77501583e-01, -3.58118629e+01],\n",
    "       [ 1.67786613e-01,  4.64567333e-01, -6.78447485e-02, -8.16707916e+01],\n",
    "       [-2.44675279e-01,  1.48105368e-01,  4.07874972e-01, -8.83094406e+00],\n",
    "       [ 0.00000000e+00,  0.00000000e+00,  0.00000000e+00, 1.00000000e+00]])\n",
    "\n",
    "case23_affine = np.array([[  0.31273046,   0.25455737,   0.29349992, -41.70222473],\n",
    "       [ -0.28844342,   0.40450525,  -0.04210297,   2.00646901],\n",
    "       [ -0.2584393 ,  -0.14343421,   0.40214738,   4.35490799],\n",
    "       [  0.        ,   0.        ,   0.        ,   1.        ]])\n",
    "\n",
    "DeepReg_rescale = (151, 136, 119)\n",
    "\n",
    "case2_size = (128, 161, 106)\n",
    "case2_scale = np.array([case2_size[0] / DeepReg_rescale[0], \n",
    "                        case2_size[1] / DeepReg_rescale[1], \n",
    "                        case2_size[2] / DeepReg_rescale[2]])\n",
    "\n",
    "case21_size = (215, 251, 191)\n",
    "case21_scale = np.array([case21_size[0] / DeepReg_rescale[0], \n",
    "                         case21_size[1] / DeepReg_rescale[1], \n",
    "                         case21_size[2] / DeepReg_rescale[2]])\n",
    "\n",
    "case23_size = (106, 147, 134)\n",
    "case23_scale = np.array([case23_size[0] / DeepReg_rescale[0], \n",
    "                         case23_size[1] / DeepReg_rescale[1], \n",
    "                         case23_size[2] / DeepReg_rescale[2]])"
   ]
  },
  {
   "cell_type": "code",
   "execution_count": 3,
   "metadata": {},
   "outputs": [],
   "source": [
    "def extract_centroid(image):\n",
    "    \"\"\"\n",
    "    Extract centroid from nifti images with landmark spheres\n",
    "    which have integer values according to labels\n",
    "    Adapted from: https://gist.github.com/mattiaspaul/f4183f525b1cbc65e71ad23298d6436e\n",
    "\n",
    "    :param image:\n",
    "        - shape: (dim_1, dim_2, dim_3) or (batch, dim_1, dim_2, dim_3)\n",
    "        - tensor or numpy array\n",
    "\n",
    "    :return positions:\n",
    "        - numpy array of labels 1\n",
    "    \"\"\"\n",
    "    assert len(image.shape) == 3\n",
    "\n",
    "    x = np.linspace(0, image.shape[0] - 1, image.shape[0])\n",
    "    y = np.linspace(0, image.shape[1] - 1, image.shape[1])\n",
    "    z = np.linspace(0, image.shape[2] - 1, image.shape[2])\n",
    "    yv, xv, zv = np.meshgrid(y, x, z)\n",
    "    unique = np.unique(image)[1:]  # don't include 0\n",
    "    positions = np.zeros((len(unique), 3))\n",
    "    for i in range(len(unique)):\n",
    "        label = (image == unique[i]).astype('float32')\n",
    "        xc = np.sum(label * xv) / np.sum(label)\n",
    "        yc = np.sum(label * yv) / np.sum(label)\n",
    "        zc = np.sum(label * zv) / np.sum(label)\n",
    "        positions[i, 0] = xc\n",
    "        positions[i, 1] = yc\n",
    "        positions[i, 2] = zc\n",
    "    return positions"
   ]
  },
  {
   "cell_type": "code",
   "execution_count": 4,
   "metadata": {},
   "outputs": [],
   "source": [
    "def calculate_mTRE(xyz_true, xyz_predict):\n",
    "    assert xyz_true.shape == xyz_predict.shape\n",
    "    TRE = np.sqrt(np.sum(np.power(xyz_true - xyz_predict, 2), axis=1))\n",
    "    mTRE = np.mean(TRE)\n",
    "    return mTRE"
   ]
  },
  {
   "cell_type": "code",
   "execution_count": 5,
   "metadata": {},
   "outputs": [],
   "source": [
    "def case_TREs(pred_dir, pair_number, num_labels, affine, scale):\n",
    "    TREs = np.zeros(num_labels)\n",
    "    for i in range(num_labels):\n",
    "        label = nib.load(pred_dir + f\"pair_{pair_number}/label_{i}/fixed_label.nii.gz\")\n",
    "        pred_label = nib.load(pred_dir + f\"pair_{pair_number}/label_{i}/pred_fixed_label.nii.gz\")\n",
    "\n",
    "        label_np = label.get_fdata()\n",
    "        label_affine = label.affine\n",
    "\n",
    "        pred_label_np = pred_label.get_fdata()\n",
    "        pred_label_affine = pred_label.affine\n",
    "        \n",
    "        label_point = nib.affines.apply_affine(affine, extract_centroid(np.round(label_np))*scale)\n",
    "        pred_point = nib.affines.apply_affine(affine, extract_centroid(np.round(pred_label_np))*scale)\n",
    "        \n",
    "        TREs[i] = calculate_mTRE(label_point, pred_point)\n",
    "        \n",
    "    return TREs"
   ]
  },
  {
   "cell_type": "markdown",
   "metadata": {},
   "source": [
    "# Calulating the mTRE for the 3 test cases"
   ]
  },
  {
   "cell_type": "code",
   "execution_count": 18,
   "metadata": {},
   "outputs": [],
   "source": [
    "# folder path to the prediction data\n",
    "prediction_dir = \"logs/20210413-124713/test/\""
   ]
  },
  {
   "cell_type": "markdown",
   "metadata": {},
   "source": [
    "## Case 2"
   ]
  },
  {
   "cell_type": "code",
   "execution_count": 19,
   "metadata": {},
   "outputs": [
    {
     "data": {
      "text/plain": [
       "array([5.02955917, 4.39510395, 4.40802551, 5.00299152, 4.47532721,\n",
       "       5.00878451, 2.57974281, 5.40922841, 6.8145309 , 5.04973411,\n",
       "       3.94488403, 6.7973698 , 6.69415665, 9.15325141, 4.45252542])"
      ]
     },
     "execution_count": 19,
     "metadata": {},
     "output_type": "execute_result"
    }
   ],
   "source": [
    "case2_TREs = case_TREs(prediction_dir, 0, 15, case2_affine, case2_scale)\n",
    "case2_TREs"
   ]
  },
  {
   "cell_type": "code",
   "execution_count": 20,
   "metadata": {},
   "outputs": [
    {
     "name": "stdout",
     "output_type": "stream",
     "text": [
      "The mTRE for case 2 was 5.281014361060188\n"
     ]
    }
   ],
   "source": [
    "case2_mTRE = np.mean(case2_TREs)\n",
    "print(f\"The mTRE for case 2 was {case2_mTRE}\")"
   ]
  },
  {
   "cell_type": "markdown",
   "metadata": {},
   "source": [
    "## Case 21"
   ]
  },
  {
   "cell_type": "code",
   "execution_count": 21,
   "metadata": {},
   "outputs": [
    {
     "data": {
      "text/plain": [
       "array([6.09522505, 3.75540878, 5.29771185, 3.74406199, 4.67369326,\n",
       "       4.47779977, 4.072249  , 5.12406763, 4.99874554, 3.58955554,\n",
       "       5.36138275, 4.25330097, 4.21532132, 3.8714921 , 3.91247806,\n",
       "       3.86929028])"
      ]
     },
     "execution_count": 21,
     "metadata": {},
     "output_type": "execute_result"
    }
   ],
   "source": [
    "case21_TREs = case_TREs(prediction_dir, 1, 16, case21_affine, case21_scale)\n",
    "case21_TREs"
   ]
  },
  {
   "cell_type": "code",
   "execution_count": 22,
   "metadata": {},
   "outputs": [
    {
     "name": "stdout",
     "output_type": "stream",
     "text": [
      "The mTRE for case 21 was 4.456986492822626\n"
     ]
    }
   ],
   "source": [
    "case21_mTRE = np.mean(case21_TREs)\n",
    "print(f\"The mTRE for case 21 was {case21_mTRE}\")"
   ]
  },
  {
   "cell_type": "markdown",
   "metadata": {},
   "source": [
    "## Case 23"
   ]
  },
  {
   "cell_type": "code",
   "execution_count": 23,
   "metadata": {},
   "outputs": [
    {
     "data": {
      "text/plain": [
       "array([6.57246287, 6.88693783, 7.87822869, 6.49209298, 7.42894543,\n",
       "       8.2068717 , 6.58697157, 8.14573094, 8.14917004, 7.88881776,\n",
       "       5.19166396, 5.99010256, 5.29910762, 5.9052913 , 8.21326861])"
      ]
     },
     "execution_count": 23,
     "metadata": {},
     "output_type": "execute_result"
    }
   ],
   "source": [
    "case23_TREs = case_TREs(prediction_dir, 2, 15, case23_affine, case23_scale)\n",
    "case23_TREs"
   ]
  },
  {
   "cell_type": "code",
   "execution_count": 24,
   "metadata": {},
   "outputs": [
    {
     "name": "stdout",
     "output_type": "stream",
     "text": [
      "The mTRE for case 23 was 6.989044259099567\n"
     ]
    }
   ],
   "source": [
    "case23_mTRE = np.mean(case23_TREs)\n",
    "print(f\"The mTRE for case 23 was {case23_mTRE}\")"
   ]
  },
  {
   "cell_type": "code",
   "execution_count": null,
   "metadata": {},
   "outputs": [],
   "source": []
  },
  {
   "cell_type": "code",
   "execution_count": null,
   "metadata": {},
   "outputs": [],
   "source": []
  },
  {
   "cell_type": "code",
   "execution_count": null,
   "metadata": {},
   "outputs": [],
   "source": []
  }
 ],
 "metadata": {
  "kernelspec": {
   "display_name": "Python 3",
   "language": "python",
   "name": "python3"
  },
  "language_info": {
   "codemirror_mode": {
    "name": "ipython",
    "version": 3
   },
   "file_extension": ".py",
   "mimetype": "text/x-python",
   "name": "python",
   "nbconvert_exporter": "python",
   "pygments_lexer": "ipython3",
   "version": "3.7.9"
  }
 },
 "nbformat": 4,
 "nbformat_minor": 4
}
