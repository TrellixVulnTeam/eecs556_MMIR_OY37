{
 "cells": [
  {
   "cell_type": "code",
   "execution_count": 4,
   "metadata": {},
   "outputs": [],
   "source": [
    "import nibabel as nib\n",
    "import numpy as np"
   ]
  },
  {
   "cell_type": "code",
   "execution_count": 5,
   "metadata": {},
   "outputs": [],
   "source": [
    "# Extracted information from original nifti files. \n",
    "# DeepReg throws away this information and doesn't acurately calculate mTRE\n",
    "\n",
    "case2_affine = np.array([[ 3.33370864e-01,  1.59845248e-01,  3.33878189e-01, -3.39173775e+01],\n",
    "       [-1.82626724e-01,  4.61422384e-01, -3.86130475e-02, 4.38701019e+01],\n",
    "       [-3.21150362e-01, -9.64666754e-02,  3.68540883e-01, 6.26287537e+01],\n",
    "       [ 0.00000000e+00,  0.00000000e+00,  0.00000000e+00, 1.00000000e+00]])\n",
    "\n",
    "case21_affine = np.array([[4.00647670e-01, -1.04107566e-01,  2.77501583e-01, -3.58118629e+01],\n",
    "       [ 1.67786613e-01,  4.64567333e-01, -6.78447485e-02, -8.16707916e+01],\n",
    "       [-2.44675279e-01,  1.48105368e-01,  4.07874972e-01, -8.83094406e+00],\n",
    "       [ 0.00000000e+00,  0.00000000e+00,  0.00000000e+00, 1.00000000e+00]])\n",
    "\n",
    "case23_affine = np.array([[  0.31273046,   0.25455737,   0.29349992, -41.70222473],\n",
    "       [ -0.28844342,   0.40450525,  -0.04210297,   2.00646901],\n",
    "       [ -0.2584393 ,  -0.14343421,   0.40214738,   4.35490799],\n",
    "       [  0.        ,   0.        ,   0.        ,   1.        ]])\n",
    "\n",
    "DeepReg_rescale = (151, 136, 119)\n",
    "\n",
    "case2_size = (128, 161, 106)\n",
    "case2_scale = np.array([case2_size[0] / DeepReg_rescale[0], \n",
    "                        case2_size[1] / DeepReg_rescale[1], \n",
    "                        case2_size[2] / DeepReg_rescale[2]])\n",
    "\n",
    "case21_size = (215, 251, 191)\n",
    "case21_scale = np.array([case21_size[0] / DeepReg_rescale[0], \n",
    "                         case21_size[1] / DeepReg_rescale[1], \n",
    "                         case21_size[2] / DeepReg_rescale[2]])\n",
    "\n",
    "case23_size = (106, 147, 134)\n",
    "case23_scale = np.array([case23_size[0] / DeepReg_rescale[0], \n",
    "                         case23_size[1] / DeepReg_rescale[1], \n",
    "                         case23_size[2] / DeepReg_rescale[2]])"
   ]
  },
  {
   "cell_type": "code",
   "execution_count": 6,
   "metadata": {},
   "outputs": [],
   "source": [
    "def extract_centroid(image):\n",
    "    \"\"\"\n",
    "    Extract centroid from nifti images with landmark spheres\n",
    "    which have integer values according to labels\n",
    "    Adapted from: https://gist.github.com/mattiaspaul/f4183f525b1cbc65e71ad23298d6436e\n",
    "\n",
    "    :param image:\n",
    "        - shape: (dim_1, dim_2, dim_3) or (batch, dim_1, dim_2, dim_3)\n",
    "        - tensor or numpy array\n",
    "\n",
    "    :return positions:\n",
    "        - numpy array of labels 1\n",
    "    \"\"\"\n",
    "    assert len(image.shape) == 3\n",
    "\n",
    "    x = np.linspace(0, image.shape[0] - 1, image.shape[0])\n",
    "    y = np.linspace(0, image.shape[1] - 1, image.shape[1])\n",
    "    z = np.linspace(0, image.shape[2] - 1, image.shape[2])\n",
    "    yv, xv, zv = np.meshgrid(y, x, z)\n",
    "    unique = np.unique(image)[1:]  # don't include 0\n",
    "    positions = np.zeros((len(unique), 3))\n",
    "    for i in range(len(unique)):\n",
    "        label = (image == unique[i]).astype('float32')\n",
    "        xc = np.sum(label * xv) / np.sum(label)\n",
    "        yc = np.sum(label * yv) / np.sum(label)\n",
    "        zc = np.sum(label * zv) / np.sum(label)\n",
    "        positions[i, 0] = xc\n",
    "        positions[i, 1] = yc\n",
    "        positions[i, 2] = zc\n",
    "    return positions"
   ]
  },
  {
   "cell_type": "code",
   "execution_count": 7,
   "metadata": {},
   "outputs": [],
   "source": [
    "def calculate_mTRE(xyz_true, xyz_predict):\n",
    "    assert xyz_true.shape == xyz_predict.shape\n",
    "    TRE = np.sqrt(np.sum(np.power(xyz_true - xyz_predict, 2), axis=1))\n",
    "    mTRE = np.mean(TRE)\n",
    "    return mTRE"
   ]
  },
  {
   "cell_type": "code",
   "execution_count": 5,
   "metadata": {},
   "outputs": [],
   "source": [
    "def case_TREs(pred_dir, pair_number, num_labels, affine, scale):\n",
    "    TREs = np.zeros(num_labels)\n",
    "    for i in range(num_labels):\n",
    "        label = nib.load(pred_dir + f\"pair_{pair_number}/label_{i}/fixed_label.nii.gz\")\n",
    "        pred_label = nib.load(pred_dir + f\"pair_{pair_number}/label_{i}/pred_fixed_label.nii.gz\")\n",
    "\n",
    "        label_np = label.get_fdata()\n",
    "        pred_label_np = pred_label.get_fdata()\n",
    "        \n",
    "        label_point = nib.affines.apply_affine(affine, extract_centroid(np.round(label_np))*scale)\n",
    "        pred_point = nib.affines.apply_affine(affine, extract_centroid(np.round(pred_label_np))*scale)\n",
    "        \n",
    "        TREs[i] = calculate_mTRE(label_point, pred_point)\n",
    "        \n",
    "    return TREs"
   ]
  },
  {
   "cell_type": "markdown",
   "metadata": {},
   "source": [
    "# Calulating the mTRE for the 3 test cases"
   ]
  },
  {
   "cell_type": "code",
   "execution_count": 6,
   "metadata": {},
   "outputs": [],
   "source": [
    "# folder path to the prediction data\n",
    "prediction_dir = \"logs/91_final_test/test/\""
   ]
  },
  {
   "cell_type": "markdown",
   "metadata": {},
   "source": [
    "## Case 2"
   ]
  },
  {
   "cell_type": "code",
   "execution_count": 7,
   "metadata": {},
   "outputs": [
    {
     "data": {
      "text/plain": [
       "array([5.23071247, 4.76445739, 4.63371352, 5.22994398, 4.54881859,\n",
       "       5.13412461, 2.93244122, 5.42828216, 7.07171662, 4.91866433,\n",
       "       4.29902994, 6.54738469, 6.8095317 , 8.37997244, 4.29391131])"
      ]
     },
     "execution_count": 7,
     "metadata": {},
     "output_type": "execute_result"
    }
   ],
   "source": [
    "case2_TREs = case_TREs(prediction_dir, 0, 15, case2_affine, case2_scale)\n",
    "case2_TREs"
   ]
  },
  {
   "cell_type": "code",
   "execution_count": 8,
   "metadata": {},
   "outputs": [
    {
     "name": "stdout",
     "output_type": "stream",
     "text": [
      "The mTRE for case 2 was 5.348180331814035\n"
     ]
    }
   ],
   "source": [
    "case2_mTRE = np.mean(case2_TREs)\n",
    "print(f\"The mTRE for case 2 was {case2_mTRE}\")"
   ]
  },
  {
   "cell_type": "markdown",
   "metadata": {},
   "source": [
    "## Case 21"
   ]
  },
  {
   "cell_type": "code",
   "execution_count": 9,
   "metadata": {},
   "outputs": [
    {
     "data": {
      "text/plain": [
       "array([6.09022382, 3.63618927, 4.7318172 , 3.60586097, 4.58234045,\n",
       "       4.40075041, 4.12417652, 4.90767851, 4.66422887, 3.25541754,\n",
       "       4.75885731, 4.23768257, 3.57989204, 3.82470047, 3.86659602,\n",
       "       3.74109874])"
      ]
     },
     "execution_count": 9,
     "metadata": {},
     "output_type": "execute_result"
    }
   ],
   "source": [
    "case21_TREs = case_TREs(prediction_dir, 1, 16, case21_affine, case21_scale)\n",
    "case21_TREs"
   ]
  },
  {
   "cell_type": "code",
   "execution_count": 10,
   "metadata": {},
   "outputs": [
    {
     "name": "stdout",
     "output_type": "stream",
     "text": [
      "The mTRE for case 21 was 4.250469418760417\n"
     ]
    }
   ],
   "source": [
    "case21_mTRE = np.mean(case21_TREs)\n",
    "print(f\"The mTRE for case 21 was {case21_mTRE}\")"
   ]
  },
  {
   "cell_type": "markdown",
   "metadata": {},
   "source": [
    "## Case 23"
   ]
  },
  {
   "cell_type": "code",
   "execution_count": 11,
   "metadata": {},
   "outputs": [
    {
     "data": {
      "text/plain": [
       "array([5.89834658, 6.34542079, 7.60935995, 6.03107151, 7.04189091,\n",
       "       7.65584598, 6.243868  , 7.84795153, 7.48142772, 7.44519124,\n",
       "       5.05002922, 5.72686916, 5.24219633, 5.80966683, 7.79706751])"
      ]
     },
     "execution_count": 11,
     "metadata": {},
     "output_type": "execute_result"
    }
   ],
   "source": [
    "case23_TREs = case_TREs(prediction_dir, 2, 15, case23_affine, case23_scale)\n",
    "case23_TREs"
   ]
  },
  {
   "cell_type": "code",
   "execution_count": 12,
   "metadata": {},
   "outputs": [
    {
     "name": "stdout",
     "output_type": "stream",
     "text": [
      "The mTRE for case 23 was 6.615080216831815\n"
     ]
    }
   ],
   "source": [
    "case23_mTRE = np.mean(case23_TREs)\n",
    "print(f\"The mTRE for case 23 was {case23_mTRE}\")"
   ]
  },
  {
   "cell_type": "code",
   "execution_count": null,
   "metadata": {},
   "outputs": [],
   "source": []
  },
  {
   "cell_type": "code",
   "execution_count": null,
   "metadata": {},
   "outputs": [],
   "source": []
  },
  {
   "cell_type": "code",
   "execution_count": null,
   "metadata": {},
   "outputs": [],
   "source": []
  },
  {
   "cell_type": "code",
   "execution_count": null,
   "metadata": {},
   "outputs": [],
   "source": []
  },
  {
   "cell_type": "code",
   "execution_count": null,
   "metadata": {},
   "outputs": [],
   "source": []
  },
  {
   "cell_type": "code",
   "execution_count": null,
   "metadata": {},
   "outputs": [],
   "source": []
  },
  {
   "cell_type": "code",
   "execution_count": 11,
   "metadata": {},
   "outputs": [],
   "source": [
    "pred_dir = \"logs/91_final_test/test/\""
   ]
  },
  {
   "cell_type": "code",
   "execution_count": 12,
   "metadata": {},
   "outputs": [],
   "source": [
    "pair_number = 0\n",
    "i = 0\n",
    "affine = case2_affine\n",
    "scale = case2_scale"
   ]
  },
  {
   "cell_type": "code",
   "execution_count": 13,
   "metadata": {},
   "outputs": [],
   "source": [
    "label = nib.load(pred_dir + f\"pair_{pair_number}/label_{i}/fixed_label.nii.gz\")\n",
    "pred_label = nib.load(pred_dir + f\"pair_{pair_number}/label_{i}/pred_fixed_label.nii.gz\")\n",
    "\n",
    "label_np = label.get_fdata()\n",
    "pred_label_np = pred_label.get_fdata()\n",
    "\n",
    "label_point = nib.affines.apply_affine(affine, extract_centroid(np.round(label_np))*scale)\n",
    "pred_point = nib.affines.apply_affine(affine, extract_centroid(np.round(pred_label_np))*scale)"
   ]
  },
  {
   "cell_type": "code",
   "execution_count": 14,
   "metadata": {},
   "outputs": [
    {
     "data": {
      "text/plain": [
       "5.230712466074962"
      ]
     },
     "execution_count": 14,
     "metadata": {},
     "output_type": "execute_result"
    }
   ],
   "source": [
    "calculate_mTRE(label_point, pred_point)"
   ]
  },
  {
   "cell_type": "code",
   "execution_count": null,
   "metadata": {},
   "outputs": [],
   "source": []
  },
  {
   "cell_type": "code",
   "execution_count": null,
   "metadata": {},
   "outputs": [],
   "source": [
    "label = nib.load(pred_dir + f\"pair_{pair_number}/label_{i}/fixed_label.nii.gz\")\n",
    "pred_label = nib.load(pred_dir + f\"pair_{pair_number}/label_{i}/pred_fixed_label.nii.gz\")\n",
    "\n",
    "label_np = label.get_fdata()\n",
    "pred_label_np = pred_label.get_fdata()\n",
    "\n",
    "\n",
    "label_point = nib.affines.apply_affine(affine, extract_centroid(np.round(label_np))*scale)\n",
    "pred_point = nib.affines.apply_affine(affine, extract_centroid(np.round(pred_label_np))*scale)"
   ]
  },
  {
   "cell_type": "code",
   "execution_count": null,
   "metadata": {},
   "outputs": [],
   "source": []
  },
  {
   "cell_type": "code",
   "execution_count": null,
   "metadata": {},
   "outputs": [],
   "source": []
  },
  {
   "cell_type": "code",
   "execution_count": null,
   "metadata": {},
   "outputs": [],
   "source": []
  }
 ],
 "metadata": {
  "kernelspec": {
   "display_name": "Python 3",
   "language": "python",
   "name": "python3"
  },
  "language_info": {
   "codemirror_mode": {
    "name": "ipython",
    "version": 3
   },
   "file_extension": ".py",
   "mimetype": "text/x-python",
   "name": "python",
   "nbconvert_exporter": "python",
   "pygments_lexer": "ipython3",
   "version": "3.7.9"
  }
 },
 "nbformat": 4,
 "nbformat_minor": 4
}
