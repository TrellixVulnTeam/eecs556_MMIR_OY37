{
 "cells": [
  {
   "cell_type": "code",
   "execution_count": 3,
   "metadata": {},
   "outputs": [],
   "source": [
    "import nibabel as nib\n",
    "import numpy as np"
   ]
  },
  {
   "cell_type": "code",
   "execution_count": 96,
   "metadata": {},
   "outputs": [],
   "source": [
    "case1_affine = np.array([[ 3.90691876e-01,  1.30452037e-01,  2.81675309e-01, -1.96299267e+01],\n",
    "       [ 1.55749843e-02,  4.42654282e-01, -2.28414789e-01, -5.37206192e+01],\n",
    "       [-3.09405476e-01,  1.87006667e-01,  3.44178468e-01, 2.05047684e+01],\n",
    "       [ 0.00000000e+00,  0.00000000e+00,  0.00000000e+00, 1.00000000e+00]])\n",
    "\n",
    "case2_affine = np.array([[ 3.33370864e-01,  1.59845248e-01,  3.33878189e-01, -3.39173775e+01],\n",
    "       [-1.82626724e-01,  4.61422384e-01, -3.86130475e-02, 4.38701019e+01],\n",
    "       [-3.21150362e-01, -9.64666754e-02,  3.68540883e-01, 6.26287537e+01],\n",
    "       [ 0.00000000e+00,  0.00000000e+00,  0.00000000e+00, 1.00000000e+00]])\n",
    "\n",
    "tester = np.array([[ 3.33370864e-01,  1.59845248e-01,  3.33878189e-01,\n",
    "        -3.39173775e+01],\n",
    "       [-1.82626724e-01,  4.61422384e-01, -3.86130475e-02,\n",
    "         4.38701019e+01],\n",
    "       [-3.21150362e-01, -9.64666754e-02,  3.68540883e-01,\n",
    "         6.26287537e+01],\n",
    "       [ 0.00000000e+00,  0.00000000e+00,  0.00000000e+00,\n",
    "         1.00000000e+00]])\n",
    "\n",
    "\n",
    "case12_affine = np.array([[  0.41881981,   0.07436115,   0.25797391, -57.30677795],\n",
    "       [  0.06075069,   0.43993044,  -0.22682622, -23.42017174],\n",
    "       [ -0.26014873,   0.22244968,   0.36234942, -19.91741753],\n",
    "       [  0.        ,   0.        ,   0.        ,   1.        ]])\n",
    "\n",
    "case13_affine = np.array([[ 4.08450842e-01, -1.18215449e-01,  2.58995205e-01, -2.38458767e+01],\n",
    "       [ 1.57638997e-01,  4.71258372e-01, -3.36058326e-02, -7.20230942e+01],\n",
    "       [-2.37171665e-01,  1.09639972e-01,  4.23698217e-01, -5.00180817e+01],\n",
    "       [ 0.00000000e+00,  0.00000000e+00,  0.00000000e+00, 1.00000000e+00]])\n",
    "\n",
    "case21_affine = np.array([[4.00647670e-01, -1.04107566e-01,  2.77501583e-01, -3.58118629e+01],\n",
    "       [ 1.67786613e-01,  4.64567333e-01, -6.78447485e-02, -8.16707916e+01],\n",
    "       [-2.44675279e-01,  1.48105368e-01,  4.07874972e-01, -8.83094406e+00],\n",
    "       [ 0.00000000e+00,  0.00000000e+00,  0.00000000e+00, 1.00000000e+00]])\n",
    "\n",
    "case23_affine = np.array([[  0.31273046,   0.25455737,   0.29349992, -41.70222473],\n",
    "       [ -0.28844342,   0.40450525,  -0.04210297,   2.00646901],\n",
    "       [ -0.2584393 ,  -0.14343421,   0.40214738,   4.35490799],\n",
    "       [  0.        ,   0.        ,   0.        ,   1.        ]])"
   ]
  },
  {
   "cell_type": "code",
   "execution_count": 5,
   "metadata": {},
   "outputs": [],
   "source": [
    "def extract_centroid(image):\n",
    "    \"\"\"\n",
    "    Extract centroid from nifti images with landmark spheres\n",
    "    which have integer values according to labels\n",
    "    Adapted from: https://gist.github.com/mattiaspaul/f4183f525b1cbc65e71ad23298d6436e\n",
    "\n",
    "    :param image:\n",
    "        - shape: (dim_1, dim_2, dim_3) or (batch, dim_1, dim_2, dim_3)\n",
    "        - tensor or numpy array\n",
    "\n",
    "    :return positions:\n",
    "        - numpy array of labels 1\n",
    "    \"\"\"\n",
    "    assert len(image.shape) == 3\n",
    "\n",
    "    x = np.linspace(0, image.shape[0] - 1, image.shape[0])\n",
    "    y = np.linspace(0, image.shape[1] - 1, image.shape[1])\n",
    "    z = np.linspace(0, image.shape[2] - 1, image.shape[2])\n",
    "    yv, xv, zv = np.meshgrid(y, x, z)\n",
    "    unique = np.unique(image)[1:]  # don't include 0\n",
    "    positions = np.zeros((len(unique), 3))\n",
    "    for i in range(len(unique)):\n",
    "        label = (image == unique[i]).astype('float32')\n",
    "        xc = np.sum(label * xv) / np.sum(label)\n",
    "        yc = np.sum(label * yv) / np.sum(label)\n",
    "        zc = np.sum(label * zv) / np.sum(label)\n",
    "        positions[i, 0] = xc\n",
    "        positions[i, 1] = yc\n",
    "        positions[i, 2] = zc\n",
    "    return positions"
   ]
  },
  {
   "cell_type": "code",
   "execution_count": 59,
   "metadata": {},
   "outputs": [],
   "source": [
    "def calculate_mTRE(xyz_true, xyz_predict):\n",
    "    assert xyz_true.shape == xyz_predict.shape\n",
    "    TRE = np.sqrt(np.sum(np.power(xyz_true - xyz_predict, 2), axis=1))\n",
    "    mTRE = np.mean(TRE)\n",
    "    return mTRE"
   ]
  },
  {
   "cell_type": "code",
   "execution_count": null,
   "metadata": {},
   "outputs": [],
   "source": []
  },
  {
   "cell_type": "code",
   "execution_count": 31,
   "metadata": {},
   "outputs": [],
   "source": [
    "prediction_dir = \"logs/20210413-124713/test/\""
   ]
  },
  {
   "cell_type": "code",
   "execution_count": 105,
   "metadata": {},
   "outputs": [],
   "source": [
    "label = nib.load(prediction_dir + \"pair_0/label_0/fixed_label.nii.gz\")\n",
    "pred_label = nib.load(prediction_dir + \"pair_0/label_0/moving_label.nii.gz\")\n",
    "\n",
    "label_np = label.get_fdata()\n",
    "label_affine = label.affine\n",
    "\n",
    "pred_label_np = pred_label.get_fdata()\n",
    "pred_label_affine = pred_label.affine"
   ]
  },
  {
   "cell_type": "code",
   "execution_count": 106,
   "metadata": {},
   "outputs": [],
   "source": [
    "label_point = nib.affines.apply_affine(tester, extract_centroid(np.round(label_np)))\n",
    "pred_point = nib.affines.apply_affine(tester, extract_centroid(np.round(pred_label_np)))"
   ]
  },
  {
   "cell_type": "code",
   "execution_count": 109,
   "metadata": {},
   "outputs": [
    {
     "data": {
      "text/plain": [
       "(array([  0,   0,   0, ..., 150, 150, 150]),\n",
       " array([  0,   0,   0, ..., 135, 135, 135]),\n",
       " array([  0,   1,   2, ..., 116, 117, 118]))"
      ]
     },
     "execution_count": 109,
     "metadata": {},
     "output_type": "execute_result"
    }
   ],
   "source": [
    "np.where(label_np == 0)"
   ]
  },
  {
   "cell_type": "code",
   "execution_count": 110,
   "metadata": {},
   "outputs": [
    {
     "data": {
      "text/plain": [
       "(151, 136, 119)"
      ]
     },
     "execution_count": 110,
     "metadata": {},
     "output_type": "execute_result"
    }
   ],
   "source": [
    "label_np.shape"
   ]
  },
  {
   "cell_type": "code",
   "execution_count": null,
   "metadata": {},
   "outputs": [],
   "source": []
  },
  {
   "cell_type": "code",
   "execution_count": 107,
   "metadata": {},
   "outputs": [
    {
     "data": {
      "text/plain": [
       "array([[19.05989685, 53.55904318, 61.93159373]])"
      ]
     },
     "execution_count": 107,
     "metadata": {},
     "output_type": "execute_result"
    }
   ],
   "source": [
    "label_point"
   ]
  },
  {
   "cell_type": "code",
   "execution_count": 108,
   "metadata": {},
   "outputs": [
    {
     "data": {
      "text/plain": [
       "array([[22.17915171, 51.24169973, 65.75868202]])"
      ]
     },
     "execution_count": 108,
     "metadata": {},
     "output_type": "execute_result"
    }
   ],
   "source": [
    "pred_point"
   ]
  },
  {
   "cell_type": "code",
   "execution_count": null,
   "metadata": {},
   "outputs": [],
   "source": []
  },
  {
   "cell_type": "code",
   "execution_count": 103,
   "metadata": {
    "scrolled": true
   },
   "outputs": [
    {
     "data": {
      "text/plain": [
       "array([[19.05989685, 53.55904318, 61.93159373]])"
      ]
     },
     "execution_count": 103,
     "metadata": {},
     "output_type": "execute_result"
    }
   ],
   "source": [
    "label_point"
   ]
  },
  {
   "cell_type": "code",
   "execution_count": 104,
   "metadata": {},
   "outputs": [
    {
     "data": {
      "text/plain": [
       "array([[22.17915171, 51.24169973, 65.75868202]])"
      ]
     },
     "execution_count": 104,
     "metadata": {},
     "output_type": "execute_result"
    }
   ],
   "source": [
    "pred_point"
   ]
  },
  {
   "cell_type": "code",
   "execution_count": null,
   "metadata": {},
   "outputs": [],
   "source": []
  },
  {
   "cell_type": "code",
   "execution_count": null,
   "metadata": {},
   "outputs": [],
   "source": []
  },
  {
   "cell_type": "code",
   "execution_count": 95,
   "metadata": {
    "scrolled": true
   },
   "outputs": [
    {
     "data": {
      "text/plain": [
       "2.3968798792285693"
      ]
     },
     "execution_count": 95,
     "metadata": {},
     "output_type": "execute_result"
    }
   ],
   "source": [
    "calculate_mTRE(label_point, pred_point)"
   ]
  },
  {
   "cell_type": "code",
   "execution_count": null,
   "metadata": {},
   "outputs": [],
   "source": []
  },
  {
   "cell_type": "code",
   "execution_count": null,
   "metadata": {},
   "outputs": [],
   "source": []
  },
  {
   "cell_type": "code",
   "execution_count": null,
   "metadata": {},
   "outputs": [],
   "source": []
  },
  {
   "cell_type": "code",
   "execution_count": 29,
   "metadata": {},
   "outputs": [
    {
     "data": {
      "text/plain": [
       "array([[19.05989685, 53.55904318, 61.93159373]])"
      ]
     },
     "execution_count": 29,
     "metadata": {},
     "output_type": "execute_result"
    }
   ],
   "source": [
    "label_point"
   ]
  },
  {
   "cell_type": "code",
   "execution_count": 30,
   "metadata": {},
   "outputs": [
    {
     "data": {
      "text/plain": [
       "array([[22.17915171, 51.24169973, 65.75868202]])"
      ]
     },
     "execution_count": 30,
     "metadata": {},
     "output_type": "execute_result"
    }
   ],
   "source": [
    "pred_point"
   ]
  },
  {
   "cell_type": "code",
   "execution_count": null,
   "metadata": {},
   "outputs": [],
   "source": []
  },
  {
   "cell_type": "code",
   "execution_count": null,
   "metadata": {},
   "outputs": [],
   "source": []
  }
 ],
 "metadata": {
  "kernelspec": {
   "display_name": "Python 3",
   "language": "python",
   "name": "python3"
  },
  "language_info": {
   "codemirror_mode": {
    "name": "ipython",
    "version": 3
   },
   "file_extension": ".py",
   "mimetype": "text/x-python",
   "name": "python",
   "nbconvert_exporter": "python",
   "pygments_lexer": "ipython3",
   "version": "3.7.7"
  }
 },
 "nbformat": 4,
 "nbformat_minor": 4
}
