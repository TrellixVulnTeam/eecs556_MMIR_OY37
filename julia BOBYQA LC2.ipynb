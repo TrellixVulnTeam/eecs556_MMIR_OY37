{
 "cells": [
  {
   "cell_type": "code",
   "execution_count": 7,
   "metadata": {},
   "outputs": [],
   "source": [
    "using Printf\n",
    "using OptimPack.Powell\n",
    "using LinearAlgebra\n",
    "using Statistics"
   ]
  },
  {
   "cell_type": "markdown",
   "metadata": {},
   "source": [
    "-----------------------------------xxx-----------------------------------\n",
    "\n",
    "BOBYQA ex for R . Maybe help give some idea on how to use\n",
    "https://rdrr.io/cran/nloptr/man/bobyqa.html"
   ]
  },
  {
   "cell_type": "code",
   "execution_count": null,
   "metadata": {},
   "outputs": [],
   "source": [
    "#Function to minimize\n",
    "function f23(x::DenseVector{Cdouble})\n",
    "    return x[1]^2+abs(x[2])\n",
    "end"
   ]
  },
  {
   "cell_type": "code",
   "execution_count": null,
   "metadata": {},
   "outputs": [],
   "source": [
    "x00=Array{Cdouble}(undef, 2);xl=Array{Cdouble}(undef, 2);\n",
    "xup=Array{Cdouble}(undef, 2);\n",
    "    rhobeg = 0.1\n",
    "    rhoend = 1e-8\n",
    "x00[1:2].=99;xl[1:2].=-100;xup[1:2].=100\n",
    "\n",
    "fx = bobyqa!(f23, x00, xl, xup, rhobeg, rhoend, npt=4,verbose=2, maxeval=500000)[1:3]"
   ]
  },
  {
   "cell_type": "markdown",
   "metadata": {},
   "source": [
    "-----------------------------------xxx-----------------------------------\n",
    "\n",
    "\n",
    "LC2 matlab code from : http://campar.in.tum.de/Main/LC2Code"
   ]
  },
  {
   "cell_type": "code",
   "execution_count": 1,
   "metadata": {},
   "outputs": [],
   "source": [
    "#= MATLAB CODE LC2\n",
    "function [similarity, measure, weight] = LC2Similarity( img1, img2 )\n",
    "    % img1: one channel image of size n*m\n",
    "    % img2: multi-channel image of size n*m*c\n",
    "\n",
    "    similarity =    -1;\n",
    "    num =   size(img2,1)*size(img2,2);\n",
    "    ids =   find(img1>0);\n",
    "    v1 =    var(img1(ids));\n",
    "\n",
    "    if (v1 > 10^-12)\n",
    "        if (numel(ids) > num/2)\n",
    "            img2r =         [reshape(img2, num, size(img2,3)) ones(num,1)];\n",
    "            pimg2r =        pinv(img2r(ids,:));\n",
    "            parameter =     pimg2r*img1(ids);\n",
    "            similarity =    1 - (var(img1(ids) - (img2r(ids,:)*parameter)) / v1);\n",
    "            weight =        sqrt(v1);\n",
    "            measure =       weight * similarity;\n",
    "        end\n",
    "    end\n",
    "\n",
    "    if (similarity == -1)\n",
    "        similarity =    0;\n",
    "        weight =        0;\n",
    "        measure =       0;\n",
    "    end\n",
    "end\n",
    "=#"
   ]
  },
  {
   "cell_type": "code",
   "execution_count": 98,
   "metadata": {},
   "outputs": [
    {
     "data": {
      "text/plain": [
       "LC2Similarity (generic function with 1 method)"
      ]
     },
     "execution_count": 98,
     "metadata": {},
     "output_type": "execute_result"
    }
   ],
   "source": [
    "function LC2Similarity(img1,img2)\n",
    "    similarity =    -1;\n",
    "    num =   size(img2,1)*size(img2,2);\n",
    "    ids =   img1 .> 0;\n",
    "    v1 =    var(img1[ids]);\n",
    "    \n",
    "    if (v1 .> 10^-12)\n",
    "        if (sum(ids) .> num/2)\n",
    "            img2r =         [reshape(img2, num, size(img2,3)) ones(num,1)];\n",
    "            pimg2r =        pinv(img2r[vec(ids),:]);\n",
    "            parameter =     pimg2r*img1[ids];\n",
    "            similarity =    1 - (var(img1[ids] - (img2r[vec(ids),:]*parameter)) / v1);\n",
    "            weight =        sqrt(v1);\n",
    "            measure =       weight * similarity;\n",
    "        end\n",
    "    end\n",
    "\n",
    "    if (similarity == -1)\n",
    "        similarity =    0;\n",
    "        weight =        0;\n",
    "        measure =       0;\n",
    "    end\n",
    "    return similarity,weight,measure\n",
    "    \n",
    "end"
   ]
  },
  {
   "cell_type": "code",
   "execution_count": 99,
   "metadata": {},
   "outputs": [],
   "source": [
    "#Testing above code:\n",
    "img1=randn(10,10);\n",
    "img2=randn(10,10,10);"
   ]
  },
  {
   "cell_type": "code",
   "execution_count": 100,
   "metadata": {},
   "outputs": [
    {
     "data": {
      "text/plain": [
       "(0.15995657180069967, 0.4750542777652392, 0.075988053690585)"
      ]
     },
     "execution_count": 100,
     "metadata": {},
     "output_type": "execute_result"
    }
   ],
   "source": [
    "(a,b,c)=LC2Similarity(img1,img2)"
   ]
  },
  {
   "cell_type": "code",
   "execution_count": null,
   "metadata": {},
   "outputs": [],
   "source": [
    "#= Patch LC2 code MATLAB\n",
    "function [similarity, parameter] = LC2SimilarityPatch( img1, img2, patchsize )\n",
    "    % img1: one channel image of size n*m\n",
    "    % img2: multi-channel image of size n*m*c\n",
    "    max_x =         size(img1,1);\n",
    "    max_y =         size(img1,2);\n",
    "    totalsize =     ((2*patchsize+1)^2)/2;\n",
    "    parameter =     zeros(size(img2)+[0 0 1]);\n",
    "    sim =           zeros(size(img1));\n",
    "    mea =           zeros(size(img1));\n",
    "    wei =           zeros(size(img1));\n",
    "\n",
    "    for y = 1:max_y\n",
    "        for x = 1:max_x\n",
    "            patch1 = img1(max(1,x-patchsize):min(max_x,x+patchsize),...\n",
    "                          max(1,y-patchsize):min(max_y,y+patchsize));\n",
    "            patch2 = img2(max(1,x-patchsize):min(max_x,x+patchsize),...\n",
    "                          max(1,y-patchsize):min(max_y,y+patchsize),:);\n",
    "\n",
    "            if (numel(patch1) > totalsize)\n",
    "                [sim(x,y), mea(x,y), wei(x,y)] = LC2Similarity( patch1, patch2 );\n",
    "            end\n",
    "        end\n",
    "    end\n",
    "\n",
    "    similarity = zeros([size(mea,3),1]);\n",
    "\n",
    "    measure = mea(:,:);\n",
    "    weights = wei(:,:);\n",
    "    similarity = sum(measure(:))/sum(weights(:));\n",
    "    similarity(isnan(similarity)) = 0;\n",
    "end\n",
    "\n",
    "=#"
   ]
  }
 ],
 "metadata": {
  "kernelspec": {
   "display_name": "Julia 1.5.3",
   "language": "julia",
   "name": "julia-1.5"
  },
  "language_info": {
   "file_extension": ".jl",
   "mimetype": "application/julia",
   "name": "julia",
   "version": "1.5.3"
  }
 },
 "nbformat": 4,
 "nbformat_minor": 4
}
